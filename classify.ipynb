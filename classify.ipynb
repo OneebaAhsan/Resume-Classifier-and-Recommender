{
 "metadata": {
  "language_info": {
   "codemirror_mode": {
    "name": "ipython",
    "version": 3
   },
   "file_extension": ".py",
   "mimetype": "text/x-python",
   "name": "python",
   "nbconvert_exporter": "python",
   "pygments_lexer": "ipython3",
   "version": "3.8.3"
  },
  "orig_nbformat": 2,
  "kernelspec": {
   "name": "python383jvsc74a57bd06b6801f3ceb00a16ca1ea0c3b5d9c621aee9ecfe65a44177e8e5bff249ec0097",
   "display_name": "Python 3.8.3 64-bit ('base': conda)"
  }
 },
 "nbformat": 4,
 "nbformat_minor": 2,
 "cells": [
  {
   "source": [
    "Methodology for classifying new resumes"
   ],
   "cell_type": "markdown",
   "metadata": {}
  },
  {
   "cell_type": "code",
   "execution_count": 9,
   "metadata": {},
   "outputs": [],
   "source": [
    "import pandas as pd\n",
    "\n",
    "import joblib\n",
    "\n",
    "from preprocess import preprocess"
   ]
  },
  {
   "cell_type": "code",
   "execution_count": 10,
   "metadata": {},
   "outputs": [
    {
     "output_type": "execute_result",
     "data": {
      "text/plain": [
       "                                                Resume\n",
       "0    Skills * Programming Languages: Python (pandas...\n",
       "1    Education Details \\nMay 2013 to May 2017 B.E  ...\n",
       "2    Areas of Interest Deep Learning, Control Syste...\n",
       "3    Skills â?¢ R â?¢ Python â?¢ SAP HANA â?¢ Table...\n",
       "4    Education Details \\n MCA   YMCAUST,  Faridabad...\n",
       "..                                                 ...\n",
       "957  Computer Skills: â?¢ Proficient in MS office (...\n",
       "958  â? Willingness to accept the challenges. â? ...\n",
       "959  PERSONAL SKILLS â?¢ Quick learner, â?¢ Eagerne...\n",
       "960  COMPUTER SKILLS & SOFTWARE KNOWLEDGE MS-Power ...\n",
       "961  Skill Set OS Windows XP/7/8/8.1/10 Database MY...\n",
       "\n",
       "[962 rows x 1 columns]"
      ],
      "text/html": "<div>\n<style scoped>\n    .dataframe tbody tr th:only-of-type {\n        vertical-align: middle;\n    }\n\n    .dataframe tbody tr th {\n        vertical-align: top;\n    }\n\n    .dataframe thead th {\n        text-align: right;\n    }\n</style>\n<table border=\"1\" class=\"dataframe\">\n  <thead>\n    <tr style=\"text-align: right;\">\n      <th></th>\n      <th>Resume</th>\n    </tr>\n  </thead>\n  <tbody>\n    <tr>\n      <th>0</th>\n      <td>Skills * Programming Languages: Python (pandas...</td>\n    </tr>\n    <tr>\n      <th>1</th>\n      <td>Education Details \\nMay 2013 to May 2017 B.E  ...</td>\n    </tr>\n    <tr>\n      <th>2</th>\n      <td>Areas of Interest Deep Learning, Control Syste...</td>\n    </tr>\n    <tr>\n      <th>3</th>\n      <td>Skills â?¢ R â?¢ Python â?¢ SAP HANA â?¢ Table...</td>\n    </tr>\n    <tr>\n      <th>4</th>\n      <td>Education Details \\n MCA   YMCAUST,  Faridabad...</td>\n    </tr>\n    <tr>\n      <th>...</th>\n      <td>...</td>\n    </tr>\n    <tr>\n      <th>957</th>\n      <td>Computer Skills: â?¢ Proficient in MS office (...</td>\n    </tr>\n    <tr>\n      <th>958</th>\n      <td>â? Willingness to accept the challenges. â? ...</td>\n    </tr>\n    <tr>\n      <th>959</th>\n      <td>PERSONAL SKILLS â?¢ Quick learner, â?¢ Eagerne...</td>\n    </tr>\n    <tr>\n      <th>960</th>\n      <td>COMPUTER SKILLS &amp; SOFTWARE KNOWLEDGE MS-Power ...</td>\n    </tr>\n    <tr>\n      <th>961</th>\n      <td>Skill Set OS Windows XP/7/8/8.1/10 Database MY...</td>\n    </tr>\n  </tbody>\n</table>\n<p>962 rows × 1 columns</p>\n</div>"
     },
     "metadata": {},
     "execution_count": 10
    }
   ],
   "source": [
    "resume_dataset = pd.read_csv('Unlabelled_Resume_DataSet.csv', encoding='Latin-1')\n",
    "resume_dataset"
   ]
  },
  {
   "cell_type": "code",
   "execution_count": 11,
   "metadata": {},
   "outputs": [],
   "source": [
    "preprocessed_resume = preprocess(resume_dataset.loc[[450], 'Resume'])   # preprocessing a random resume\n",
    "\n",
    "vectorizer = joblib.load('vectorizer.joblib')                           # Loading vectorizer\n",
    "selected_resume = vectorizer.transform(preprocessed_resume)             # Vectorizing the preprocessed resume"
   ]
  },
  {
   "cell_type": "code",
   "execution_count": 12,
   "metadata": {},
   "outputs": [
    {
     "output_type": "stream",
     "name": "stdout",
     "text": [
      "Resume is for SAP Developer category\n"
     ]
    }
   ],
   "source": [
    "linear_SVC = joblib.load('model.joblib')                                # Loading the model with highest accuracy\n",
    "\n",
    "prediction = linear_SVC.predict(selected_resume)[0]                     # Predicting            \n",
    "print(f'Resume is for {prediction} category')"
   ]
  }
 ]
}