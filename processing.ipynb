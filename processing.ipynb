{
 "metadata": {
  "language_info": {
   "codemirror_mode": {
    "name": "ipython",
    "version": 3
   },
   "file_extension": ".py",
   "mimetype": "text/x-python",
   "name": "python",
   "nbconvert_exporter": "python",
   "pygments_lexer": "ipython3",
   "version": "3.8.3"
  },
  "orig_nbformat": 2,
  "kernelspec": {
   "name": "python383jvsc74a57bd06b6801f3ceb00a16ca1ea0c3b5d9c621aee9ecfe65a44177e8e5bff249ec0097",
   "display_name": "Python 3.8.3 64-bit ('base': conda)"
  }
 },
 "nbformat": 4,
 "nbformat_minor": 2,
 "cells": [
  {
   "cell_type": "code",
   "execution_count": 1,
   "metadata": {},
   "outputs": [],
   "source": [
    "import pandas as pd\n",
    "\n",
    "import joblib\n",
    "\n",
    "from sklearn.metrics import accuracy_score, classification_report\n",
    "\n",
    "from preprocess import preprocess, get_vectorizer"
   ]
  },
  {
   "cell_type": "code",
   "execution_count": 2,
   "metadata": {},
   "outputs": [
    {
     "output_type": "execute_result",
     "data": {
      "text/plain": [
       "         Category                                             Resume\n",
       "0    Data Science  Skills * Programming Languages: Python (pandas...\n",
       "1    Data Science  Education Details \\nMay 2013 to May 2017 B.E  ...\n",
       "2    Data Science  Areas of Interest Deep Learning, Control Syste...\n",
       "3    Data Science  Skills â¢ R â¢ Python â¢ SAP HANA â¢ Table...\n",
       "4    Data Science  Education Details \\n MCA   YMCAUST,  Faridabad...\n",
       "..            ...                                                ...\n",
       "957       Testing  Computer Skills: â¢ Proficient in MS office (...\n",
       "958       Testing  â Willingness to accept the challenges. â ...\n",
       "959       Testing  PERSONAL SKILLS â¢ Quick learner, â¢ Eagerne...\n",
       "960       Testing  COMPUTER SKILLS & SOFTWARE KNOWLEDGE MS-Power ...\n",
       "961       Testing  Skill Set OS Windows XP/7/8/8.1/10 Database MY...\n",
       "\n",
       "[962 rows x 2 columns]"
      ],
      "text/html": "<div>\n<style scoped>\n    .dataframe tbody tr th:only-of-type {\n        vertical-align: middle;\n    }\n\n    .dataframe tbody tr th {\n        vertical-align: top;\n    }\n\n    .dataframe thead th {\n        text-align: right;\n    }\n</style>\n<table border=\"1\" class=\"dataframe\">\n  <thead>\n    <tr style=\"text-align: right;\">\n      <th></th>\n      <th>Category</th>\n      <th>Resume</th>\n    </tr>\n  </thead>\n  <tbody>\n    <tr>\n      <th>0</th>\n      <td>Data Science</td>\n      <td>Skills * Programming Languages: Python (pandas...</td>\n    </tr>\n    <tr>\n      <th>1</th>\n      <td>Data Science</td>\n      <td>Education Details \\nMay 2013 to May 2017 B.E  ...</td>\n    </tr>\n    <tr>\n      <th>2</th>\n      <td>Data Science</td>\n      <td>Areas of Interest Deep Learning, Control Syste...</td>\n    </tr>\n    <tr>\n      <th>3</th>\n      <td>Data Science</td>\n      <td>Skills â¢ R â¢ Python â¢ SAP HANA â¢ Table...</td>\n    </tr>\n    <tr>\n      <th>4</th>\n      <td>Data Science</td>\n      <td>Education Details \\n MCA   YMCAUST,  Faridabad...</td>\n    </tr>\n    <tr>\n      <th>...</th>\n      <td>...</td>\n      <td>...</td>\n    </tr>\n    <tr>\n      <th>957</th>\n      <td>Testing</td>\n      <td>Computer Skills: â¢ Proficient in MS office (...</td>\n    </tr>\n    <tr>\n      <th>958</th>\n      <td>Testing</td>\n      <td>â Willingness to accept the challenges. â ...</td>\n    </tr>\n    <tr>\n      <th>959</th>\n      <td>Testing</td>\n      <td>PERSONAL SKILLS â¢ Quick learner, â¢ Eagerne...</td>\n    </tr>\n    <tr>\n      <th>960</th>\n      <td>Testing</td>\n      <td>COMPUTER SKILLS &amp; SOFTWARE KNOWLEDGE MS-Power ...</td>\n    </tr>\n    <tr>\n      <th>961</th>\n      <td>Testing</td>\n      <td>Skill Set OS Windows XP/7/8/8.1/10 Database MY...</td>\n    </tr>\n  </tbody>\n</table>\n<p>962 rows × 2 columns</p>\n</div>"
     },
     "metadata": {},
     "execution_count": 2
    }
   ],
   "source": [
    "resume_dataset = pd.read_csv('Labelled_Resume_Dataset.csv')\n",
    "resume_dataset"
   ]
  },
  {
   "cell_type": "code",
   "execution_count": 3,
   "metadata": {},
   "outputs": [],
   "source": [
    "X = resume_dataset['Resume']\n",
    "y = resume_dataset['Category']\n",
    "preprocessed_resumes = preprocess(X)    # Preprocessing the resumes\n",
    "\n",
    "vectorizer = get_vectorizer()               \n",
    "X = vectorizer.fit_transform(preprocessed_resumes)  # vectorizing the resumes\n",
    "X = X.toarray()"
   ]
  },
  {
   "cell_type": "code",
   "execution_count": 4,
   "metadata": {},
   "outputs": [],
   "source": [
    "from sklearn.model_selection import train_test_split\n",
    "\n",
    "X_train, X_test, y_train, y_test = train_test_split(X, y, test_size=0.80, random_state=10)"
   ]
  },
  {
   "cell_type": "code",
   "execution_count": 5,
   "metadata": {},
   "outputs": [
    {
     "output_type": "execute_result",
     "data": {
      "text/plain": [
       "RandomForestClassifier()"
      ]
     },
     "metadata": {},
     "execution_count": 5
    }
   ],
   "source": [
    "from sklearn.ensemble import RandomForestClassifier\n",
    "\n",
    "random_forest_classifier = RandomForestClassifier()\n",
    "random_forest_classifier.fit(X_train, y_train)"
   ]
  },
  {
   "cell_type": "code",
   "execution_count": 6,
   "metadata": {},
   "outputs": [
    {
     "output_type": "execute_result",
     "data": {
      "text/plain": [
       "LinearSVC()"
      ]
     },
     "metadata": {},
     "execution_count": 6
    }
   ],
   "source": [
    "from sklearn.svm import LinearSVC\n",
    "\n",
    "linear_SVC = LinearSVC()\n",
    "linear_SVC.fit(X_train,y_train)"
   ]
  },
  {
   "cell_type": "code",
   "execution_count": 7,
   "metadata": {},
   "outputs": [
    {
     "output_type": "execute_result",
     "data": {
      "text/plain": [
       "LogisticRegression()"
      ]
     },
     "metadata": {},
     "execution_count": 7
    }
   ],
   "source": [
    "from sklearn.linear_model import LogisticRegression\n",
    "\n",
    "log_regressor = LogisticRegression()\n",
    "log_regressor.fit(X_train,y_train)"
   ]
  },
  {
   "cell_type": "code",
   "execution_count": 8,
   "metadata": {},
   "outputs": [],
   "source": [
    "accuracies = dict()"
   ]
  },
  {
   "cell_type": "code",
   "execution_count": 9,
   "metadata": {},
   "outputs": [
    {
     "output_type": "stream",
     "name": "stdout",
     "text": [
      "Random Fores: \n                           precision    recall  f1-score   support\n\n                 Advocate       1.00      0.62      0.77        16\n                     Arts       1.00      1.00      1.00        30\n       Automation Testing       0.94      0.89      0.92        19\n               Blockchain       1.00      1.00      1.00        32\n         Business Analyst       0.83      1.00      0.90        19\n           Civil Engineer       1.00      0.13      0.23        23\n             Data Science       1.00      0.67      0.80        36\n                 Database       0.87      1.00      0.93        26\n          DevOps Engineer       1.00      0.91      0.95        44\n         DotNet Developer       1.00      0.83      0.91        24\n            ETL Developer       1.00      1.00      1.00        31\n   Electrical Engineering       1.00      0.76      0.86        25\n                       HR       0.44      1.00      0.61        29\n                   Hadoop       0.88      1.00      0.94        29\n       Health and fitness       1.00      0.60      0.75        25\n           Java Developer       0.80      1.00      0.89        60\n      Mechanical Engineer       1.00      0.77      0.87        35\nNetwork Security Engineer       1.00      1.00      1.00        18\n       Operations Manager       1.00      1.00      1.00        30\n                      PMO       0.96      1.00      0.98        25\n         Python Developer       1.00      1.00      1.00        41\n            SAP Developer       1.00      0.45      0.62        22\n                    Sales       0.87      1.00      0.93        34\n                  Testing       0.71      1.00      0.83        55\n            Web Designing       1.00      0.79      0.88        42\n\n                 accuracy                           0.88       770\n                macro avg       0.93      0.86      0.86       770\n             weighted avg       0.92      0.88      0.87       770\n\n"
     ]
    }
   ],
   "source": [
    "random_forest_classifier_y_pred = random_forest_classifier.predict(X_test)\n",
    "\n",
    "report = classification_report(y_test, random_forest_classifier_y_pred)\n",
    "accuracy = accuracy_score(y_test, random_forest_classifier_y_pred)\n",
    "\n",
    "# saving the model and accuracy to a dict\n",
    "accuracies['random_forest'] = {'accuracy':accuracy, 'model': random_forest_classifier}\n",
    "print(f'Random Fores: \\n{report}')"
   ]
  },
  {
   "cell_type": "code",
   "execution_count": 10,
   "metadata": {},
   "outputs": [
    {
     "output_type": "stream",
     "name": "stdout",
     "text": [
      "Linear SVC: \n                           precision    recall  f1-score   support\n\n                 Advocate       1.00      1.00      1.00        16\n                     Arts       1.00      0.60      0.75        30\n       Automation Testing       0.61      0.89      0.72        19\n               Blockchain       1.00      1.00      1.00        32\n         Business Analyst       1.00      1.00      1.00        19\n           Civil Engineer       1.00      0.83      0.90        23\n             Data Science       0.82      1.00      0.90        36\n                 Database       1.00      1.00      1.00        26\n          DevOps Engineer       1.00      0.91      0.95        44\n         DotNet Developer       0.71      1.00      0.83        24\n            ETL Developer       1.00      1.00      1.00        31\n   Electrical Engineering       0.93      1.00      0.96        25\n                       HR       1.00      0.86      0.93        29\n                   Hadoop       1.00      1.00      1.00        29\n       Health and fitness       0.81      1.00      0.89        25\n           Java Developer       0.94      1.00      0.97        60\n      Mechanical Engineer       1.00      1.00      1.00        35\nNetwork Security Engineer       1.00      1.00      1.00        18\n       Operations Manager       0.83      1.00      0.91        30\n                      PMO       0.96      1.00      0.98        25\n         Python Developer       1.00      1.00      1.00        41\n            SAP Developer       1.00      0.64      0.78        22\n                    Sales       1.00      1.00      1.00        34\n                  Testing       0.92      0.82      0.87        55\n            Web Designing       0.97      0.79      0.87        42\n\n                 accuracy                           0.93       770\n                macro avg       0.94      0.93      0.93       770\n             weighted avg       0.94      0.93      0.93       770\n\n"
     ]
    }
   ],
   "source": [
    "linear_SVC_y_pred = linear_SVC.predict(X_test)\n",
    "\n",
    "report = classification_report(y_test, linear_SVC_y_pred)\n",
    "accuracy = accuracy_score(y_test, linear_SVC_y_pred)\n",
    "\n",
    "# saving the model and accuracy to a dict\n",
    "accuracies['linear_SVC'] = {'accuracy':accuracy, 'model': linear_SVC}\n",
    "print(f'Linear SVC: \\n{report}')"
   ]
  },
  {
   "cell_type": "code",
   "execution_count": 11,
   "metadata": {},
   "outputs": [
    {
     "output_type": "stream",
     "name": "stdout",
     "text": [
      "Logistic Regression: \n",
      "                           precision    recall  f1-score   support\n",
      "\n",
      "                 Advocate       1.00      0.12      0.22        16\n",
      "                     Arts       1.00      0.40      0.57        30\n",
      "       Automation Testing       1.00      0.89      0.94        19\n",
      "               Blockchain       1.00      1.00      1.00        32\n",
      "         Business Analyst       1.00      0.89      0.94        19\n",
      "           Civil Engineer       0.00      0.00      0.00        23\n",
      "             Data Science       1.00      0.17      0.29        36\n",
      "                 Database       1.00      1.00      1.00        26\n",
      "          DevOps Engineer       1.00      0.91      0.95        44\n",
      "         DotNet Developer       1.00      0.50      0.67        24\n",
      "            ETL Developer       1.00      1.00      1.00        31\n",
      "   Electrical Engineering       1.00      0.76      0.86        25\n",
      "                       HR       0.64      0.86      0.74        29\n",
      "                   Hadoop       0.72      1.00      0.84        29\n",
      "       Health and fitness       1.00      0.60      0.75        25\n",
      "           Java Developer       0.32      1.00      0.49        60\n",
      "      Mechanical Engineer       1.00      0.54      0.70        35\n",
      "Network Security Engineer       1.00      1.00      1.00        18\n",
      "       Operations Manager       0.81      1.00      0.90        30\n",
      "                      PMO       1.00      1.00      1.00        25\n",
      "         Python Developer       1.00      0.80      0.89        41\n",
      "            SAP Developer       0.00      0.00      0.00        22\n",
      "                    Sales       1.00      0.76      0.87        34\n",
      "                  Testing       0.46      1.00      0.63        55\n",
      "            Web Designing       0.00      0.00      0.00        42\n",
      "\n",
      "                 accuracy                           0.71       770\n",
      "                macro avg       0.80      0.69      0.69       770\n",
      "             weighted avg       0.76      0.71      0.68       770\n",
      "\n",
      "C:\\Users\\Mussab\\anaconda3\\lib\\site-packages\\sklearn\\metrics\\_classification.py:1221: UndefinedMetricWarning: Precision and F-score are ill-defined and being set to 0.0 in labels with no predicted samples. Use `zero_division` parameter to control this behavior.\n",
      "  _warn_prf(average, modifier, msg_start, len(result))\n"
     ]
    }
   ],
   "source": [
    "log_regressor_y_pred = log_regressor.predict(X_test)\n",
    "\n",
    "report = classification_report(y_test, log_regressor_y_pred)\n",
    "accuracy = accuracy_score(y_test, log_regressor_y_pred)\n",
    "\n",
    "# saving the model and accuracy to a dict\n",
    "accuracies['log_regressor'] = {'accuracy':accuracy, 'model': log_regressor}\n",
    "print(f'Logistic Regression: \\n{report}')"
   ]
  },
  {
   "cell_type": "code",
   "execution_count": 12,
   "metadata": {},
   "outputs": [
    {
     "output_type": "stream",
     "name": "stdout",
     "text": [
      "random_forest has an accuracy of 0.8792207792207792\nlinear_SVC has an accuracy of 0.9311688311688312\nlog_regressor has an accuracy of 0.712987012987013\n"
     ]
    }
   ],
   "source": [
    "for k in accuracies.keys():\n",
    "    print(f'{k} has an accuracy of {accuracies[k].get(\"accuracy\")}')"
   ]
  },
  {
   "cell_type": "code",
   "execution_count": 13,
   "metadata": {},
   "outputs": [
    {
     "output_type": "execute_result",
     "data": {
      "text/plain": [
       "['vectorizer.joblib']"
      ]
     },
     "metadata": {},
     "execution_count": 13
    }
   ],
   "source": [
    "max_accuracy_model = max(accuracies, key=lambda x: accuracies.get(x)['accuracy'])   # Getting max accuracy\n",
    "joblib.dump(accuracies[max_accuracy_model]['model'], 'model.joblib')                # saving the model with max accuracy    \n",
    "joblib.dump(vectorizer, 'vectorizer.joblib')                                        # saving the vectorizer"
   ]
  }
 ]
}